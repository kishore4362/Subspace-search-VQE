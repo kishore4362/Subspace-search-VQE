{
 "cells": [
  {
   "cell_type": "markdown",
   "metadata": {},
   "source": [
    "## Problem 5\n",
    "\n",
    "This problem covers concepts about cost functions, optimizers, instances, and applications.\n"
   ]
  },
  {
   "cell_type": "markdown",
   "metadata": {
    "tags": []
   },
   "source": [
    "## Problem 5a\n",
    "\n",
    "Build [SSVQE's cost function](https://learning.quantum-computing.ibm.com/course/variational-algorithm-design/instances-and-extensions#subspace-search-vqe-ssvqe) using the following observable:\n",
    "\n",
    "$$\n",
    "O = 2II-2XX+3YY-3ZZ\n",
    "$$\n",
    "\n",
    "This cost function should take in parameters as an input. Use the included variational form, with reference states $\\{|00\\rangle, |01\\rangle, |10\\rangle, |11\\rangle\\}$ and weights $w_{00}=50, w_{01}=40, w_{10}= 30, w_{11}=20$.\n",
    "\n",
    "<details>\n",
    "    <summary>Hint 1</summary>\n",
    "    Look at the ansatz to determine how many parameters the cost function should take in.\n",
    "</details>\n",
    "<details>\n",
    "    <summary>Hint 2</summary>\n",
    "    Your cost function should use the `qiskit.primitives.Estimator` for evaluating all necessary expectation values.\n",
    "</details>\n"
   ]
  },
  {
   "cell_type": "code",
   "execution_count": 18,
   "metadata": {
    "tags": []
   },
   "outputs": [],
   "source": [
    "from qiskit import QuantumCircuit\n",
    "from qiskit import IBMQ, Aer\n",
    "from qiskit_ibm_runtime import QiskitRuntimeService, Estimator\n",
    "from qiskit.circuit.library import TwoLocal\n",
    "from qiskit.quantum_info import SparsePauliOp\n",
    "from qiskit.primitives import Estimator\n",
    "import numpy as np\n",
    "from qc_grader.challenges.algorithm_design import grade_problem_5a\n",
    "from math import pi\n"
   ]
  },
  {
   "cell_type": "code",
   "execution_count": 22,
   "metadata": {
    "tags": []
   },
   "outputs": [
    {
     "name": "stdout",
     "output_type": "stream",
     "text": [
      "Submitting your answer. Please wait...\n",
      "Congratulations 🎉! Your answer is correct and has been submitted.\n",
      "Your score is 3.\n"
     ]
    }
   ],
   "source": [
    "from qiskit import QuantumCircuit\n",
    "from qiskit.circuit.library import TwoLocal\n",
    "from qiskit.quantum_info import SparsePauliOp\n",
    "from qiskit.primitives import Estimator\n",
    "import numpy as np\n",
    "from qc_grader.challenges.algorithm_design import grade_problem_5a\n",
    "ansatz_list = TwoLocal(2, rotation_blocks=['rz', 'ry'], entanglement_blocks='cx', entanglement='linear', reps=1)\n",
    "weight_vector = [50, 40, 30, 20]\n",
    "estimator = Estimator()\n",
    "hamiltonian = SparsePauliOp.from_list([(\"II\", 2), (\"XX\", -2), (\"YY\", 3), (\"ZZ\", -3)])\n",
    "def cost_function(theta: list[float],k:int, ansatz_list:TwoLocal, weight_vector:list[float],hamiltonian: SparsePauliOp, estimator: Estimator) -> float:\n",
    "    hamiltonian = SparsePauliOp.from_list([(\"II\", 2), (\"XX\", -2), (\"YY\", 3), (\"ZZ\", -3)])\n",
    "    reference_circuits = []\n",
    "    for i in range(2):\n",
    "        for j in range(2):\n",
    "            qc = QuantumCircuit(2)\n",
    "            if j == 1:\n",
    "                qc.x(0)\n",
    "            if i == 1:\n",
    "                qc.x(1)\n",
    "            reference_circuits.append(qc)\n",
    "\n",
    "\n",
    "    ansatz_list = TwoLocal(2, rotation_blocks=['rz', 'ry'], entanglement_blocks='cx', entanglement='linear', reps=1)\n",
    "\n",
    "\n",
    "    values = 0\n",
    "    weight_vector = [50, 40, 30, 20]\n",
    "    for i in range(k+1):\n",
    "        reference_circuits[i]=reference_circuits[i].compose(ansatz_list)\n",
    "        estimator = Estimator()\n",
    "        job = estimator.run(reference_circuits[i], hamiltonian, theta)\n",
    "        values += weight_vector[i]*job.result().values\n",
    "\n",
    "    return values # TODO: return the right value given the input parameters\n",
    "\n",
    "\n",
    "grade_problem_5a(cost_function,k,ansatz_list,weight_vector,hamiltonian,estimator)\n",
    "\n",
    "\n"
   ]
  },
  {
   "cell_type": "markdown",
   "metadata": {},
   "source": [
    "### Problem 5b\n",
    "\n",
    "After you have your `cost_function`, use a classical optimizer to calculate the optimal parameters and eigenvalues for the several ansatze.\n"
   ]
  },
  {
   "cell_type": "code",
   "execution_count": 25,
   "metadata": {},
   "outputs": [
    {
     "name": "stdout",
     "output_type": "stream",
     "text": [
      "[array([-5.99999998]), array([4.]), array([4.00000002]), array([5.99999997])]\n",
      "Submitting your answer. Please wait...\n",
      "Congratulations 🎉! Your answer is correct and has been submitted.\n",
      "Your score is 2.\n"
     ]
    }
   ],
   "source": [
    "from qiskit.algorithms.optimizers import COBYLA\n",
    "from qiskit.circuit.library import TwoLocal\n",
    "from qiskit.quantum_info import SparsePauliOp\n",
    "from qiskit.primitives import Estimator\n",
    "import numpy as np\n",
    "from qc_grader.challenges.algorithm_design import grade_problem_5b\n",
    "reference_circuits = []\n",
    "for i in range(2):\n",
    "    for j in range(2):\n",
    "        qc = QuantumCircuit(2)\n",
    "        if j == 1:\n",
    "            qc.x(0)\n",
    "        if i == 1:\n",
    "            qc.x(1)\n",
    "        reference_circuits.append(qc)\n",
    "ansatz_list = TwoLocal(2, rotation_blocks=['rz', 'ry'], entanglement_blocks='cx', entanglement='linear', reps=1)\n",
    "eigenvalues = []\n",
    "initial_theta = np.ones(8)\n",
    "optimizer = COBYLA()\n",
    "\n",
    "def cost_fun_ssvqe(theta:list[float]):\n",
    "    return cost_function(theta,k, ansatz_list, weight_vector,hamiltonian, estimator)\n",
    "\n",
    "optimizer_result = optimizer.minimize(fun=cost_fun_ssvqe, x0=initial_theta)\n",
    "\n",
    "optimal_parameters = optimizer_result.x\n",
    "\n",
    "for i in range(4):\n",
    "    reference_circuits[i]=reference_circuits[i].compose(ansatz_list)\n",
    "    estimator = Estimator()\n",
    "    job = estimator.run(reference_circuits[i], hamiltonian, optimal_parameters)\n",
    "    eigenvalues.append(job.result().values)\n",
    "print(eigenvalues)\n",
    "\n",
    "\n",
    "grade_problem_5b(eigenvalues)"
   ]
  },
  {
   "cell_type": "markdown",
   "metadata": {},
   "source": [
    "[Return to the assessment to earn your badge!](https://challenges.quantum-computing.ibm.com/algorithm-design)\n"
   ]
  }
 ],
 "metadata": {
  "kernelspec": {
   "display_name": "Python 3 (ipykernel)",
   "language": "python",
   "name": "python3"
  },
  "language_info": {
   "codemirror_mode": {
    "name": "ipython",
    "version": 3
   },
   "file_extension": ".py",
   "mimetype": "text/x-python",
   "name": "python",
   "nbconvert_exporter": "python",
   "pygments_lexer": "ipython3",
   "version": "3.10.8"
  },
  "widgets": {
   "application/vnd.jupyter.widget-state+json": {
    "state": {},
    "version_major": 2,
    "version_minor": 0
   }
  }
 },
 "nbformat": 4,
 "nbformat_minor": 4
}
